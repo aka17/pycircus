{
 "metadata": {
  "name": "",
  "signature": "sha256:a95a111a7f66a217b7cb2b52877c0049c35b8b515fe416bfbeac0acf24ef318c"
 },
 "nbformat": 3,
 "nbformat_minor": 0,
 "worksheets": [
  {
   "cells": [
    {
     "cell_type": "heading",
     "level": 1,
     "metadata": {},
     "source": [
      "Introduction to Python for Physicists and Engineers "
     ]
    },
    {
     "cell_type": "heading",
     "level": 2,
     "metadata": {},
     "source": [
      "Python"
     ]
    },
    {
     "cell_type": "markdown",
     "metadata": {},
     "source": [
      "[Python](http://www.python.org/) is a high-level, highly extensible, object-oriented programming language. Python is open source, cross-platform (runs on Windows / Mac OS X / Linux), immensely flexible, and extremely easy to use and learn. \n",
      "Python is an interpreted language, i.e., code is read and executed on a line-by-line basis. Some of the key features, advantages and disadvantages are listed below.\n",
      "\n",
      "### Key features:\n",
      "\n",
      "* Interpreted language\n",
      "* Clean and easy-to-read code construct \n",
      "* Intuitive syntax\n",
      "* Fewer lines of code = Fewer bugs\n",
      "* dynamically typed\n",
      "* automatic memory management\n",
      "\n",
      "### Advantages:\n",
      "\n",
      "* Ease of programming - minimizing the time for development, debugging and maintainence \n",
      "* Modular and object-oriented programming with a good system for packaging and re-use of code. This often results in more transparent, maintainable and bug-free code.\n",
      "* Documentation tightly integrated with the code.\n",
      "* Availability of a large collection of libraries/add-on packages.\n",
      "\n",
      "<img src=\"http://imgs.xkcd.com/comics/python.png\" width=\"500\">\n",
      "\n",
      "\n",
      "### Disadvantages:\n",
      "\n",
      "* Being an interpreted language, execution of python code is slower compared to compiled languages, such as C/C++ or Fortran.\n"
     ]
    },
    {
     "cell_type": "heading",
     "level": 2,
     "metadata": {},
     "source": [
      "What makes python suitable for scientific computing?"
     ]
    },
    {
     "cell_type": "markdown",
     "metadata": {},
     "source": [
      "* Scientific libraries and environments\n",
      "    * [numpy](http://numpy.scipy.org) - Numerical Python\n",
      "    * [scipy](http://www.scipy.org) -  Scientific Python\n",
      "    * [matplotlib](http://www.matplotlib.org) - Plotting library\n",
      "    * [pandas](http://pandas.pydata.org) - Data analysis library\n",
      "* Integration with highly optimized libraries such as BLAS/ATLAS/LAPACK\n",
      "* Easy interfacing with other programming languages such as C/C++/Fortran\n",
      "* Large community of users, easy to find help and documentation.\n",
      "* Free, i.e., no licensing cost\n",
      "* Growing support for GUI development \n"
     ]
    },
    {
     "cell_type": "markdown",
     "metadata": {},
     "source": [
      "## Versions of Python\n",
      "\n",
      "There are currently two versions of python: Python 2 and Python 3. Python 3 is not backward compatible with Python 2. Python 3 is the future of the language, so we will be using that for our discussion."
     ]
    },
    {
     "cell_type": "markdown",
     "metadata": {},
     "source": [
      "## Installing Python\n",
      "\n",
      "Most linux distributions and Apple's Mac OS X come with python installed. Currently this is version 2.7. Installers for Python 3.3 are available through the package management program on these operating systems. Windows on the other hand lacks a good packaging system, so the easiest way to setup a Python environment is to install a pre-packaged distribution. \n",
      "The python software foundation distributes a python installer for all platforms and you can install that. For installing addition libraries you can use python's built-in package management system ``pip``. While this is perfectly reasonable, there is a simpler way to install python and all the commonly used python packages such as numpy and scipy via pre-packaged scientific python distributions. These pre-packaged distributions are usually cross-platform. Some of the good ones are :\n",
      "\n",
      " * [Anaconda](http://continuum.io/downloads.html). Continuum Analytics' Anaconda Python is free, cross-platform and has a pretty permissive license.\n",
      " * [Python(x,y)](http://code.google.com/p/pythonxy/). Fully open source and BSD license and Windows only. Currently supports only Python 2.x\n",
      " * [Enthought Python Distribution](http://www.enthought.com/products/epd.php). EPD is a cross-platform commercial product but is available free for academic use and has a free version that contains a limited set of libraries.\n",
      "\n",
      "I personally recommend Continuum\u2019s Anaconda. It\u2019s free, quite simple to use, supports python 3, and includes all the libraries needed for scientific computin, and includes the awesome conda package manager that makes installing additional packages and managing virtual development environments really easy. It also comes with Spyder, a really neat IDE. Grab the Python 3.x installer from http://continuum.io/downloads, double click and follow the instructions. More install instructions and documentation is available at http://docs.continuum.io/anaconda/\n",
      "\n",
      "#### Note on installation in Windows\n",
      "On Windows, if you are installing Anaconda for just yourself, it gets installed in the `AppData` folder in your HOME folder `(C:\\Users\\<username>)`. Personally I do not prefer this install location. I prefer to create a directory `C:\\Users\\<username>\\Software` and install all my personal software there. If you change the installation path during the install process to `C:\\Users\\<username>\\Software\\Anaconda`, anaconda will be installed there. The installer creates the folder if it is not there. You can also install it in any other directory that you want."
     ]
    },
    {
     "cell_type": "heading",
     "level": 3,
     "metadata": {},
     "source": [
      "Python environments"
     ]
    },
    {
     "cell_type": "markdown",
     "metadata": {},
     "source": [
      "Apart from referring to the programming language, the term ``Python`` is also often used to refer to [CPython](http://en.wikipedia.org/wiki/CPython) - the standard implementation of the interpreter that actually runs python code on the computer. There are many different methods through which the user can interact with the python interpreter. Each of these methods have their quirks and which one to use is a personal choice that would depend on your programming workflow."
     ]
    },
    {
     "cell_type": "heading",
     "level": 3,
     "metadata": {},
     "source": [
      "Python interpreter"
     ]
    },
    {
     "cell_type": "markdown",
     "metadata": {},
     "source": [
      "The standard way to use the Python programming language is to use the Python interpreter. We can start the interpreter by simply typing ``python`` at the command line, and interactively type python code into the interpreter. \n",
      "\n",
      "<img src=\"images/python_interpreter.png\" width=\"600\">\n",
      "\n",
      "This is often how we want to work when doing small calculations or running quick checks. But the standard python interpreter is not very convenient for developing larger scientific applications due to a number of limitations."
     ]
    },
    {
     "cell_type": "heading",
     "level": 3,
     "metadata": {},
     "source": [
      "Python program files"
     ]
    },
    {
     "cell_type": "markdown",
     "metadata": {},
     "source": [
      "Python code is usually stored in text files with the file ending \".py\", for example ``test.py``. Every line in a Python program file is assumed to be a Python statement, or part thereof. The only exceptions are comment lines, which start with the character ``#``. Comment lines are ignored by the Python interpreter.\n",
      "\n",
      "To execute/run our program, we invoke the python interpreter in a non-interactive mode from the command prompt. For example, to run a python program ``test.py`` use::\n",
      "\n",
      "    $ python test.py\n",
      "\n",
      "Note: On UNIX systems it is common to define the path to the interpreter on the first line of the program (note that this is a comment line as far as the Python interpreter is concerned):\n",
      "    #!/usr/bin/env python"
     ]
    },
    {
     "cell_type": "heading",
     "level": 3,
     "metadata": {},
     "source": [
      "IPython"
     ]
    },
    {
     "cell_type": "markdown",
     "metadata": {},
     "source": [
      "IPython is an interactive shell that addresses the limitation of the standard python interpreter, and it is a work-horse for scientific use of python. It provides an interactive prompt to the python interpreter with a greatly improved user-friendliness.\n",
      "\n",
      "<img src=\"images/ipython_interpreter.png\" width=\"600\"> \n",
      "\n",
      "Some of the many useful features of IPython includes:\n",
      "\n",
      "* Command history, which can be browsed with the up and down arrows on the keyboard.\n",
      "* Tab auto-completion.\n",
      "* In-line editing of code.\n",
      "* Object introspection, and automatic extract of documentation strings from python objects like classes and functions.\n",
      "* Good interaction with operating system shell.\n",
      "* Support for multiple parallel back-end processes, that can run on computing clusters or cloud services like Amazon EE2.\n"
     ]
    },
    {
     "cell_type": "heading",
     "level": 3,
     "metadata": {},
     "source": [
      "IPython notebook"
     ]
    },
    {
     "cell_type": "markdown",
     "metadata": {},
     "source": [
      "[IPython notebook](http://ipython.org/notebook.html) is an HTML-based notebook environment for Python, similar to Mathematica or Maple. The notebook consists of a  ``cells`` by means of which code and supporting doucmentation can be organized in an extremely structured manner. This document is an example of an ipython notebook. The contents of an IPython notebook are stored  in the JSON format. The advantage of this format is that we can mix text, Python code and code output. That said, it requires the IPython notebook program to be installed to run it. There are some plugins and other goodies by which the contents of a Ipython notebook can be exported to different formats. \n",
      "\n",
      "IPython notebooks are usually run on localhost, i.e. on the same computer that is running the web browser. To start a new IPython notebook session, run the following command:\n",
      "\n",
      "    $ ipython notebook\n",
      "\n",
      "This will open a new browser tab/window with an index page where existing notebooks are shown. You can work with existing notebooks, create new notebooks or delete notebooks from this window. \n",
      "\n",
      "### Configuring Ipython\n",
      "All the notebooks created by the notebook server are stored in a single location which defaults to your HOME folder. To change this location, you need to create a default profile\n",
      "\n",
      "    $ ipython profile create\n",
      "    \n",
      "(see the [Ipython notebook configuration options](http://ipython.org/ipython-doc/2/config/options/notebook.html) for more details)."
     ]
    },
    {
     "cell_type": "heading",
     "level": 3,
     "metadata": {},
     "source": [
      "Spyder"
     ]
    },
    {
     "cell_type": "markdown",
     "metadata": {},
     "source": [
      "[Spyder](http://code.google.com/p/spyderlib/) is a IDE for scientific computing with python. It has a MATLAB-like interface with an editor and command window panes. It has advanced features for editing, executing and debugging code. Some features include syntax highlighting, dynamic code introspection, integration with the python debugger, a variable explorer and integration with the IPython command prompt.\n",
      "\n",
      "<img src=\"images/spyder.png\" width=\"800\">"
     ]
    },
    {
     "cell_type": "heading",
     "level": 2,
     "metadata": {},
     "source": [
      "Further reading"
     ]
    },
    {
     "cell_type": "markdown",
     "metadata": {},
     "source": [
      " * [Python](http://www.python.org). The official Python web site.\n",
      " * [Python tutorials](http://docs.python.org/2/tutorial). The official Python tutorials.\n",
      " * [Think Python](http://www.greenteapress.com/thinkpython). A free book on Python."
     ]
    }
   ],
   "metadata": {}
  }
 ]
}