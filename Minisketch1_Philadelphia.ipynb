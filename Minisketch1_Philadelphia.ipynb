{
 "metadata": {
  "name": "",
  "signature": "sha256:a8214335e804f510b5eddf8d2e5e120c304debed3958d5df0b7f4a4cbfca7b7a"
 },
 "nbformat": 3,
 "nbformat_minor": 0,
 "worksheets": [
  {
   "cells": [
    {
     "cell_type": "heading",
     "level": 1,
     "metadata": {},
     "source": [
      "Minisketch 1 - Analyzing Philadelphia's Temperature"
     ]
    },
    {
     "cell_type": "markdown",
     "metadata": {},
     "source": [
      "In this notebook we will go through a complete example of how to use python to perform some simple data analysis. We are looking at the daily High and Low temperature in Philadelphia from Jan 1, 1950 through Dec 31, 1999. The data itself was taken from the NOAA website. I have cleaned up the files received from the NOAA for the purposes of this minisketch.\n",
      "\n",
      "The data file is available in 3 slightly different formats.\n",
      "\n",
      "1. `data/phl_temperature_noheaders.txt` - Plain text file with the data in columns that are space separated \n",
      "2. `data/phl_temperature.xlsx` - Data in a Microsoft excel file format    "
     ]
    },
    {
     "cell_type": "markdown",
     "metadata": {},
     "source": [
      "Let us quickly look at the plain text file and its format. We open the file using the `open` command which takes the name of the file and a mode as arguments. The mode can either be 'r' for reading a file or 'w' for writing a file.\n",
      "\n",
      "There are several ways to read text data from text files. You can read a file one chatacter at a time using the `read()` method, until you run into a end of file character. \n",
      "\n",
      "A more convenient way to read the data is to read the file one line at a time using the `readline()` method. Lets read the first 10 lines of our file using this method."
     ]
    },
    {
     "cell_type": "code",
     "collapsed": false,
     "input": [
      "f = open('data/phl_temperature_noheaders.txt','r')\n",
      "for i in range(10):\n",
      "    line = f.readline()\n",
      "    print(line)"
     ],
     "language": "python",
     "metadata": {},
     "outputs": []
    },
    {
     "cell_type": "markdown",
     "metadata": {},
     "source": [
      "Does that look right? The `readline` method reads each line from the file and includes the newline '\\n' character and the `print` function automatically appends a newline character as well, which is why the lines are double spaced. We can get rid of the newline character in the lines that are read by using the `strip` method."
     ]
    },
    {
     "cell_type": "code",
     "collapsed": false,
     "input": [
      "for i in range(10):\n",
      "    line = f.readline().strip()\n",
      "    print(line)\n",
      "f.close()"
     ],
     "language": "python",
     "metadata": {},
     "outputs": []
    },
    {
     "cell_type": "markdown",
     "metadata": {},
     "source": [
      "Note that since we did not close the file or reset the file handle to the start of the file, the second time we used the readline method it continued from where it left off. The file is closed using the `close` method."
     ]
    },
    {
     "cell_type": "markdown",
     "metadata": {},
     "source": [
      "Read the file content into a numpy array the long way"
     ]
    },
    {
     "cell_type": "code",
     "collapsed": false,
     "input": [
      "import numpy \n",
      "\n",
      "# Open the file \n",
      "f = open('data/phl_temperature_noheaders.txt','r')\n",
      "\n",
      "# Read all the lines into a list. Each line will be one entry in the list\n",
      "content = f.readlines()\n",
      "\n",
      "# Close the file since we do not need it anymore \n",
      "f.close()\n",
      "\n",
      "# Loop through and convert the string content to numbers\n",
      "data = []\n",
      "for i in content:\n",
      "    a = []\n",
      "    for j in i.split():\n",
      "        a.append(int(j))\n",
      "    data.append(a)\n",
      "\n",
      "# Print some stuff\n",
      "data = numpy.array(data)\n",
      "print(type(data))\n",
      "print(data.shape)\n",
      "print(data[0])"
     ],
     "language": "python",
     "metadata": {},
     "outputs": []
    },
    {
     "cell_type": "code",
     "collapsed": false,
     "input": [
      "# The one line fancy version of reading the data file using list comprehensions\n",
      "data2 = numpy.array([ [int(i) for i in line.split()] for line in open('data/phl_temperature_noheaders.txt').readlines() ])\n",
      "print(type(data2))\n",
      "print(data2.shape)\n",
      "print(data2[0])"
     ],
     "language": "python",
     "metadata": {},
     "outputs": []
    },
    {
     "cell_type": "markdown",
     "metadata": {},
     "source": [
      "Now that the data is available in the form of a numpy array, we can use the slicing methods to extract subsets of data. Here are a few examples."
     ]
    },
    {
     "cell_type": "code",
     "collapsed": false,
     "input": [
      "# The daily high temperature stored in the 4th column of the file\n",
      "daily_high = data[:,3]\n",
      "\n",
      "# The daily low temperature stored in the 5th column of the file\n",
      "daily_low = data[:,4]\n",
      "\n",
      "# Temperatures on Feb 29th\n",
      "feb29 = numpy.where(((data[:,1] == 29) & (data[:,0] == 2)))\n",
      "print(data[feb29])"
     ],
     "language": "python",
     "metadata": {},
     "outputs": []
    },
    {
     "cell_type": "markdown",
     "metadata": {},
     "source": [
      "Note that all the temperatures entries for Feb 29 in non leap years is meaningless. So when we do further analysis, we need to account for this.  "
     ]
    },
    {
     "cell_type": "markdown",
     "metadata": {},
     "source": [
      "Some simple analysis that can be performed.\n",
      "\n",
      "* The maximum and minimum recorded temperature between 1950 and 1999\n",
      "* Calculate the average daily high and low temperatures.\n",
      "* The difference between the high and low temperatures for each day from 1 Jan 1950 to 31 Dec 1999. \n",
      "* Statistics of the daily difference between the low and high (check out numpy.histogram)\n",
      "* The \"day-wise\" highest and lowest temperatures, i.e. the highest and lowest recorded temperature on January 1 in the 49 years of data and which year were they recorded. Similarly for January 2, January 3 etc.\n",
      "* The \"day-wise\" average high and low temperatures, i.e.  average high on Jan 1, average high on Jan 2, ...etc.\n"
     ]
    }
   ],
   "metadata": {}
  }
 ]
}